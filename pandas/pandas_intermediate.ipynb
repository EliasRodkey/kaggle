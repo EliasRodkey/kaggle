{
 "cells": [
  {
   "cell_type": "markdown",
   "id": "c33b3f4f",
   "metadata": {},
   "source": [
    "# Moving Beyond the Basics"
   ]
  },
  {
   "cell_type": "code",
   "execution_count": 2,
   "id": "0ef9bcf6",
   "metadata": {},
   "outputs": [],
   "source": [
    "import pandas as pd\n",
    "reviews = pd.read_csv('winemag-data_first150k.csv')"
   ]
  },
  {
   "cell_type": "markdown",
   "id": "32dc50d9",
   "metadata": {},
   "source": [
    "## Summary Functions\n",
    "\n",
    "There are a number of built in function that can allow us to see an overview of data in a column (or row) similar to the describe() and head() functions"
   ]
  },
  {
   "cell_type": "code",
   "execution_count": 10,
   "id": "96ea5b39",
   "metadata": {},
   "outputs": [
    {
     "data": {
      "text/plain": [
       "34920"
      ]
     },
     "execution_count": 10,
     "metadata": {},
     "output_type": "execute_result"
    }
   ],
   "source": [
    "# Gives the mean value of a int column\n",
    "reviews.points.mean()\n",
    "\n",
    "# Returns a list of unique values in a column\n",
    "reviews.country.unique()\n",
    "\n",
    "# Returns a list of the unique values and how many of each there are\n",
    "reviews.country.value_counts()\n",
    "\n",
    "# Returns the index of the first occurence of the max value in a series\n",
    "reviews.price.idxmax()"
   ]
  },
  {
   "cell_type": "markdown",
   "id": "0736e789",
   "metadata": {},
   "source": [
    "## Maps\n",
    "\n",
    "Maps are a mathemetical concept that takes one set of values and 'maps' it onto another set of values.\n",
    "In data science they are a common tool to transform data to the format we want\n"
   ]
  },
  {
   "cell_type": "markdown",
   "id": "9b2bd409",
   "metadata": {},
   "source": [
    "The first and simpler mapping function in pandas is the .map() method.\n",
    "\n",
    "    - map() expects a single value from the Series and returns a transformed version of the value (you can use a lambda function or a custom function for the transformation).\n",
    "    \n",
    "    - apply() is the equivalent method to transform a whole DataFrame by calling a custom method on each row.\n",
    "\n",
    "This is how we can apply a custom function to a column of data.\n",
    "Both map() and apply() return a new transformed version of the Series / DataFrame respectively and don't edit in place."
   ]
  },
  {
   "cell_type": "code",
   "execution_count": null,
   "id": "a88072a4",
   "metadata": {},
   "outputs": [
    {
     "data": {
      "text/html": [
       "<div>\n",
       "<style scoped>\n",
       "    .dataframe tbody tr th:only-of-type {\n",
       "        vertical-align: middle;\n",
       "    }\n",
       "\n",
       "    .dataframe tbody tr th {\n",
       "        vertical-align: top;\n",
       "    }\n",
       "\n",
       "    .dataframe thead th {\n",
       "        text-align: right;\n",
       "    }\n",
       "</style>\n",
       "<table border=\"1\" class=\"dataframe\">\n",
       "  <thead>\n",
       "    <tr style=\"text-align: right;\">\n",
       "      <th></th>\n",
       "      <th>Unnamed: 0</th>\n",
       "      <th>country</th>\n",
       "      <th>description</th>\n",
       "      <th>designation</th>\n",
       "      <th>points</th>\n",
       "      <th>price</th>\n",
       "      <th>province</th>\n",
       "      <th>region_1</th>\n",
       "      <th>region_2</th>\n",
       "      <th>variety</th>\n",
       "      <th>winery</th>\n",
       "    </tr>\n",
       "  </thead>\n",
       "  <tbody>\n",
       "    <tr>\n",
       "      <th>0</th>\n",
       "      <td>0</td>\n",
       "      <td>US</td>\n",
       "      <td>This tremendous 100% varietal wine hails from ...</td>\n",
       "      <td>Martha's Vineyard</td>\n",
       "      <td>96</td>\n",
       "      <td>235.0</td>\n",
       "      <td>California</td>\n",
       "      <td>Napa Valley</td>\n",
       "      <td>Napa</td>\n",
       "      <td>Cabernet Sauvignon</td>\n",
       "      <td>Heitz</td>\n",
       "    </tr>\n",
       "    <tr>\n",
       "      <th>1</th>\n",
       "      <td>1</td>\n",
       "      <td>Spain</td>\n",
       "      <td>Ripe aromas of fig, blackberry and cassis are ...</td>\n",
       "      <td>Carodorum Selección Especial Reserva</td>\n",
       "      <td>96</td>\n",
       "      <td>110.0</td>\n",
       "      <td>Northern Spain</td>\n",
       "      <td>Toro</td>\n",
       "      <td>NaN</td>\n",
       "      <td>Tinta de Toro</td>\n",
       "      <td>Bodega Carmen Rodríguez</td>\n",
       "    </tr>\n",
       "    <tr>\n",
       "      <th>2</th>\n",
       "      <td>2</td>\n",
       "      <td>US</td>\n",
       "      <td>Mac Watson honors the memory of a wine once ma...</td>\n",
       "      <td>Special Selected Late Harvest</td>\n",
       "      <td>96</td>\n",
       "      <td>90.0</td>\n",
       "      <td>California</td>\n",
       "      <td>Knights Valley</td>\n",
       "      <td>Sonoma</td>\n",
       "      <td>Sauvignon Blanc</td>\n",
       "      <td>Macauley</td>\n",
       "    </tr>\n",
       "    <tr>\n",
       "      <th>3</th>\n",
       "      <td>3</td>\n",
       "      <td>US</td>\n",
       "      <td>This spent 20 months in 30% new French oak, an...</td>\n",
       "      <td>Reserve</td>\n",
       "      <td>96</td>\n",
       "      <td>65.0</td>\n",
       "      <td>Oregon</td>\n",
       "      <td>Willamette Valley</td>\n",
       "      <td>Willamette Valley</td>\n",
       "      <td>Pinot Noir</td>\n",
       "      <td>Ponzi</td>\n",
       "    </tr>\n",
       "    <tr>\n",
       "      <th>4</th>\n",
       "      <td>4</td>\n",
       "      <td>France</td>\n",
       "      <td>This is the top wine from La Bégude, named aft...</td>\n",
       "      <td>La Brûlade</td>\n",
       "      <td>95</td>\n",
       "      <td>66.0</td>\n",
       "      <td>Provence</td>\n",
       "      <td>Bandol</td>\n",
       "      <td>NaN</td>\n",
       "      <td>Provence red blend</td>\n",
       "      <td>Domaine de la Bégude</td>\n",
       "    </tr>\n",
       "  </tbody>\n",
       "</table>\n",
       "</div>"
      ],
      "text/plain": [
       "   Unnamed: 0 country                                        description  \\\n",
       "0           0      US  This tremendous 100% varietal wine hails from ...   \n",
       "1           1   Spain  Ripe aromas of fig, blackberry and cassis are ...   \n",
       "2           2      US  Mac Watson honors the memory of a wine once ma...   \n",
       "3           3      US  This spent 20 months in 30% new French oak, an...   \n",
       "4           4  France  This is the top wine from La Bégude, named aft...   \n",
       "\n",
       "                            designation  points  price        province  \\\n",
       "0                     Martha's Vineyard      96  235.0      California   \n",
       "1  Carodorum Selección Especial Reserva      96  110.0  Northern Spain   \n",
       "2         Special Selected Late Harvest      96   90.0      California   \n",
       "3                               Reserve      96   65.0          Oregon   \n",
       "4                            La Brûlade      95   66.0        Provence   \n",
       "\n",
       "            region_1           region_2             variety  \\\n",
       "0        Napa Valley               Napa  Cabernet Sauvignon   \n",
       "1               Toro                NaN       Tinta de Toro   \n",
       "2     Knights Valley             Sonoma     Sauvignon Blanc   \n",
       "3  Willamette Valley  Willamette Valley          Pinot Noir   \n",
       "4             Bandol                NaN  Provence red blend   \n",
       "\n",
       "                    winery  \n",
       "0                    Heitz  \n",
       "1  Bodega Carmen Rodríguez  \n",
       "2                 Macauley  \n",
       "3                    Ponzi  \n",
       "4     Domaine de la Bégude  "
      ]
     },
     "execution_count": 7,
     "metadata": {},
     "output_type": "execute_result"
    }
   ],
   "source": [
    "# Takes the points series and shifts the mean to be 0\n",
    "review_points_mean = reviews.points.mean()\n",
    "\n",
    "reviews.points.map(lambda p: p - review_points_mean)\n",
    "\n",
    "# Function that shifts the points so the mean is 0\n",
    "def remean_points(row):\n",
    "    row.points = row.points - review_points_mean\n",
    "    return row\n",
    "\n",
    "reviews.apply(remean_points, axis='columns')\n",
    "# If we had called reviews.apply() with axis='index', then instead of passing a function to \n",
    "# transform each row, we would need to give a function to transform each column.\n",
    "\n",
    "# Maintains original values since we did not assign output of .apply()\n",
    "reviews.head()"
   ]
  },
  {
   "cell_type": "markdown",
   "id": "cde72f10",
   "metadata": {},
   "source": [
    "Lots of common functions are built into pandas already such as the basic mathematical operators + - * and /.\n",
    "\n",
    "Pandas will understand what we are trying to do when we use these operators on series of equal length. Very versatile.\n",
    "\n",
    "These basic operators are FASTER than map() and apply() but not as FLEXIBLE."
   ]
  },
  {
   "cell_type": "code",
   "execution_count": 9,
   "id": "1daa5acd",
   "metadata": {},
   "outputs": [
    {
     "data": {
      "text/plain": [
       "0                  US - Napa Valley\n",
       "1                      Spain - Toro\n",
       "2               US - Knights Valley\n",
       "3            US - Willamette Valley\n",
       "4                   France - Bandol\n",
       "                    ...            \n",
       "150925    Italy - Fiano di Avellino\n",
       "150926           France - Champagne\n",
       "150927    Italy - Fiano di Avellino\n",
       "150928           France - Champagne\n",
       "150929           Italy - Alto Adige\n",
       "Length: 150930, dtype: object"
      ]
     },
     "execution_count": 9,
     "metadata": {},
     "output_type": "execute_result"
    }
   ],
   "source": [
    "# Faster way to remean\n",
    "reviews_points_mean = reviews.points.mean()\n",
    "reviews.points - reviews_points_mean\n",
    "\n",
    "# Create new Series based on other series\n",
    "reviews.country + ' - ' + reviews.region_1"
   ]
  }
 ],
 "metadata": {
  "kernelspec": {
   "display_name": "Python 3",
   "language": "python",
   "name": "python3"
  },
  "language_info": {
   "codemirror_mode": {
    "name": "ipython",
    "version": 3
   },
   "file_extension": ".py",
   "mimetype": "text/x-python",
   "name": "python",
   "nbconvert_exporter": "python",
   "pygments_lexer": "ipython3",
   "version": "3.13.1"
  }
 },
 "nbformat": 4,
 "nbformat_minor": 5
}
