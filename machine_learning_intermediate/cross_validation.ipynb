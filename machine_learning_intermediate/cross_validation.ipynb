{
 "cells": [
  {
   "cell_type": "markdown",
   "id": "6620a5c6",
   "metadata": {},
   "source": [
    "# Cross-Validation\n",
    "\n",
    "A better way to test models.\n",
    "\n",
    "In general a validation set will be about 20% of the data we have available. Small validation sets lead to lots of \"noise\" in model results (randomness). Unfortunately adding more validation data means taking away from our training data and vice versa.\n",
    "\n",
    "The process of cross-validation breaks the total dataset into chunks (folds) using different chunks for training and validation each time so that in the end all of the data has been used once to validate the model giving a more accurate measure of model quality.\n",
    "\n",
    "Cross-validation should always be used on smaller datasets, on larger datasets where the validation data is sufficiently it is not necessary and will be very slow.\n",
    "Cross-validation can also be run once on a larger data set and if the model results are very similar then it probably isn't necessary."
   ]
  },
  {
   "cell_type": "code",
   "execution_count": 1,
   "id": "5396194a",
   "metadata": {},
   "outputs": [],
   "source": [
    "import pandas as pd\n",
    "\n",
    "# Read the data\n",
    "data = pd.read_csv('../data/melb_data.csv')\n",
    "\n",
    "# Select subset of predictors\n",
    "cols_to_use = ['Rooms', 'Distance', 'Landsize', 'BuildingArea', 'YearBuilt']\n",
    "X = data[cols_to_use]\n",
    "\n",
    "# Select target\n",
    "y = data.Price"
   ]
  },
  {
   "cell_type": "markdown",
   "id": "852589de",
   "metadata": {},
   "source": [
    "Define a pipeline. it is very difficult to do cross-validation without a pipeline."
   ]
  },
  {
   "cell_type": "code",
   "execution_count": 2,
   "id": "d914e1fa",
   "metadata": {},
   "outputs": [],
   "source": [
    "from sklearn.ensemble import RandomForestRegressor\n",
    "from sklearn.pipeline import Pipeline\n",
    "from sklearn.impute import SimpleImputer\n",
    "\n",
    "my_pipeline = Pipeline(steps=[\n",
    "    ('preprocessor', SimpleImputer()),\n",
    "    ('model', RandomForestRegressor(n_estimators=50, random_state=0))\n",
    "])"
   ]
  },
  {
   "cell_type": "markdown",
   "id": "c5f4989a",
   "metadata": {},
   "source": [
    "next obtain cross validation scores with the cross_val_score() function.\n",
    "Set the number of \"folds\" with the cv parameter."
   ]
  },
  {
   "cell_type": "code",
   "execution_count": 3,
   "id": "3a958df1",
   "metadata": {},
   "outputs": [
    {
     "name": "stdout",
     "output_type": "stream",
     "text": [
      "MAE scores:\n",
      " [301628.7893587  303164.4782723  287298.331666   236061.84754543\n",
      " 260383.45111427]\n"
     ]
    }
   ],
   "source": [
    "from sklearn.model_selection import cross_val_score\n",
    "\n",
    "# Multiply by -1 since sklearn calculates *negative* MAE\n",
    "scores = -1 * cross_val_score(my_pipeline, X, y, cv=5, scoring='neg_mean_absolute_error')\n",
    "\n",
    "print(\"MAE scores:\\n\", scores)"
   ]
  },
  {
   "cell_type": "markdown",
   "id": "6ede8cdf",
   "metadata": {},
   "source": [
    "Here we selected teh 'neg_mean_absolute_error' as a measure of model quality, other options can be found here: http://scikit-learn.org/stable/modules/model_evaluation.html \n",
    "\n",
    "After collecting the cross validation scores, they are typically averaged."
   ]
  },
  {
   "cell_type": "code",
   "execution_count": 4,
   "id": "46352ac9",
   "metadata": {},
   "outputs": [
    {
     "name": "stdout",
     "output_type": "stream",
     "text": [
      "Average MAE score (across experiments):\n",
      "277707.3795913405\n"
     ]
    }
   ],
   "source": [
    "print(\"Average MAE score (across experiments):\")\n",
    "print(scores.mean())"
   ]
  }
 ],
 "metadata": {
  "kernelspec": {
   "display_name": "Python 3",
   "language": "python",
   "name": "python3"
  },
  "language_info": {
   "codemirror_mode": {
    "name": "ipython",
    "version": 3
   },
   "file_extension": ".py",
   "mimetype": "text/x-python",
   "name": "python",
   "nbconvert_exporter": "python",
   "pygments_lexer": "ipython3",
   "version": "3.13.1"
  }
 },
 "nbformat": 4,
 "nbformat_minor": 5
}
