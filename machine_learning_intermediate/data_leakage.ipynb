{
 "cells": [
  {
   "cell_type": "markdown",
   "id": "defdf24b",
   "metadata": {},
   "source": [
    "# Data Leakage\n",
    "\n",
    "Data leakage (leakage) occurs when data that is used to train the model will not be available when the model is implemented.\n",
    "Leakage often occurs when data is used in training that will not exist chronologically speaking at the time we want the model to make predicitons.\n",
    "Leakage can also occur when the level of detail or data point will simply not be available, accessible, or accurate.\n",
    "\n",
    "There are two types of leakage:\n",
    "1. Target Leakage\n",
    "2. Train-test Contamination\n"
   ]
  },
  {
   "cell_type": "markdown",
   "id": "10e0883b",
   "metadata": {},
   "source": [
    "## Target Leakage\n",
    "\n",
    "Target leakage is when the predictors include data that will not be available. It is important to think abnout target leakage in terms of timing or chronological order."
   ]
  },
  {
   "cell_type": "markdown",
   "id": "5754d0f6",
   "metadata": {},
   "source": [
    "## Train-Test Contamination\n",
    "\n",
    "Train-test contamination is when the validation data affects the preprocessing behavior.\n",
    "To avoid this it is important to call train_test_split before doing any preprocessing to avoid changing the validation data or including it in the training.\n",
    "\n"
   ]
  },
  {
   "cell_type": "markdown",
   "id": "fd17bfe1",
   "metadata": {},
   "source": [
    "## Detecting Leakage\n",
    "\n",
    "Really high model accuracy can be a sign of data leakage. A model with a prediciton accuracy of 95%+ can indicate that the model has been trained on its validation set or that it has access to data that it will not have in practice.\n",
    "It's generally better to play it safe if the data is ambiguous or you can't track down the people who collected it to exclude anything that may potentially cause leakage."
   ]
  }
 ],
 "metadata": {
  "kernelspec": {
   "display_name": "Python 3",
   "language": "python",
   "name": "python3"
  },
  "language_info": {
   "codemirror_mode": {
    "name": "ipython",
    "version": 3
   },
   "file_extension": ".py",
   "mimetype": "text/x-python",
   "name": "python",
   "nbconvert_exporter": "python",
   "pygments_lexer": "ipython3",
   "version": "3.13.1"
  }
 },
 "nbformat": 4,
 "nbformat_minor": 5
}
