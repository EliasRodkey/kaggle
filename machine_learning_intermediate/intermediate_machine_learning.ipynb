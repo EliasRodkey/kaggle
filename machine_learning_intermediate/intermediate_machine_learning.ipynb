{
 "cells": [
  {
   "cell_type": "markdown",
   "id": "f75fd309",
   "metadata": {},
   "source": [
    "# Intermediate Machine Learning Micro \n",
    "\n",
    "An expansion on the concepts and methods used in the intro to machine learning micro course"
   ]
  },
  {
   "cell_type": "markdown",
   "id": "253ac548",
   "metadata": {},
   "source": [
    "## Missing Values\n",
    "\n",
    "There are 3 widely accepted strategies fro dealing with missing values\n",
    "\n",
    "1. Drop the column that contains missing values.\n",
    "    - This approach generally leads to less accurate models since we are throwing out a lot of potentialls helpful information.\n",
    "\n",
    "2. Replace the missing values with a mean from that column (imputation).\n",
    "    - This generally leads to more accurate models but still can cause a skew / innacuray.\n",
    "\n",
    "3. Extension to Imputation:\n",
    "    - this approach is a combination and extension of approach #2 where an extra column is added that indicated whether or not that column contained a missing value to begin with."
   ]
  },
  {
   "cell_type": "code",
   "execution_count": 27,
   "id": "954afee3",
   "metadata": {},
   "outputs": [],
   "source": [
    "# Import data and set up training / validation sets\n",
    "import pandas as pd\n",
    "from sklearn.model_selection import train_test_split\n",
    "\n",
    "MELBOURNE_DATA_PATH = '..\\\\data\\\\melb_data.csv'\n",
    "\n",
    "melb_data = pd.read_csv(MELBOURNE_DATA_PATH)\n",
    "melb_predictors = melb_data.drop(['Price'], axis=1)\n",
    "\n",
    "y = melb_data.Price\n",
    "X = melb_predictors.select_dtypes(exclude=['object'])\n",
    "\n",
    "X_train, X_val, y_train, y_val = train_test_split(X, y, train_size=0.8, test_size=0.2, random_state=0)\n"
   ]
  },
  {
   "cell_type": "code",
   "execution_count": 28,
   "id": "c414f460",
   "metadata": {},
   "outputs": [],
   "source": [
    "# Define funciton to return MAE score for the data\n",
    "from sklearn.metrics import mean_absolute_error\n",
    "from sklearn.ensemble import RandomForestRegressor\n",
    "\n",
    "def score_dataset(X_train, X_val, y_train, y_val) -> float:\n",
    "    model = RandomForestRegressor(n_estimators=10, random_state=0)\n",
    "    model.fit(X_train, y_train)\n",
    "    preds = model.predict(X_val)\n",
    "    return mean_absolute_error(y_val, preds)"
   ]
  },
  {
   "cell_type": "markdown",
   "id": "d991db31",
   "metadata": {},
   "source": [
    "First we will try approach #1 to see what our score is. "
   ]
  },
  {
   "cell_type": "code",
   "execution_count": 29,
   "id": "21ff3157",
   "metadata": {},
   "outputs": [
    {
     "name": "stdout",
     "output_type": "stream",
     "text": [
      "MAE for approach 1: 183550.22137772635\n"
     ]
    }
   ],
   "source": [
    "# Get the names of columns with missing values\n",
    "cols_missing_vals = [col for col in X_train.columns if X_train[col].isnull().any()]\n",
    "\n",
    "# Drop columns in the training and validation data that are missing values\n",
    "dropna_X_train = X_train.drop(cols_missing_vals, axis=1)\n",
    "dropna_X_val = X_val.drop(cols_missing_vals, axis=1)\n",
    "\n",
    "print(f'MAE for approach 1: {score_dataset(dropna_X_train, dropna_X_val, y_train, y_val)}')"
   ]
  },
  {
   "cell_type": "markdown",
   "id": "6636841c",
   "metadata": {},
   "source": [
    "Next lets see how imputation (strategy #2) fairs compared to approach #1"
   ]
  },
  {
   "cell_type": "code",
   "execution_count": 30,
   "id": "571a543d",
   "metadata": {},
   "outputs": [
    {
     "name": "stdout",
     "output_type": "stream",
     "text": [
      "MAE for approach 2 (Imputation): 178166.46269899711\n",
      "MAE from Approach 2 (Imputation): 178166.46269899711\n"
     ]
    }
   ],
   "source": [
    "# First we need the mean values of the columns missing values\n",
    "cols_missing_vals_mean = [X_train[column].mean() for column in cols_missing_vals]\n",
    "\n",
    "imputed_X_train = X_train.copy()\n",
    "imputed_X_val = X_val.copy()\n",
    "\n",
    "for i, column in enumerate(cols_missing_vals):\n",
    "    imputed_X_train[column] = X_train[column].fillna(cols_missing_vals_mean[i])\n",
    "    imputed_X_val[column] = X_val[column].fillna(cols_missing_vals_mean[i])\n",
    "\n",
    "# Custom solution! but theres a faster way to do it...\n",
    "print(f'MAE for approach 2 (Imputation): {score_dataset(imputed_X_train, imputed_X_val, y_train, y_val)}')\n",
    "\n",
    "\n",
    "from sklearn.impute import SimpleImputer\n",
    "\n",
    "# Imputation\n",
    "my_imputer = SimpleImputer()\n",
    "imputed_X_train = pd.DataFrame(my_imputer.fit_transform(X_train))\n",
    "imputed_X_valid = pd.DataFrame(my_imputer.transform(X_val))\n",
    "\n",
    "# Imputation removed column names; put them back\n",
    "imputed_X_train.columns = X_train.columns\n",
    "imputed_X_valid.columns = X_val.columns\n",
    "\n",
    "print(f'MAE from Approach 2 (Imputation): {score_dataset(imputed_X_train, imputed_X_valid, y_train, y_val)}')"
   ]
  },
  {
   "cell_type": "markdown",
   "id": "3f102f07",
   "metadata": {},
   "source": [
    "Now lets try method #3 imputation + extension."
   ]
  },
  {
   "cell_type": "code",
   "execution_count": 31,
   "id": "adeac531",
   "metadata": {},
   "outputs": [
    {
     "name": "stdout",
     "output_type": "stream",
     "text": [
      "MAE from approach 3 (Imputation + Extension): 178927.503183954\n"
     ]
    }
   ],
   "source": [
    "# First copy the training and validation data to new variables\n",
    "X_train_plus = X_train.copy()\n",
    "X_val_plus = X_val.copy()\n",
    "\n",
    "# Make a new column for each column that had missing values\n",
    "for col in cols_missing_vals:\n",
    "    X_train_plus[col + '_was_missing'] = X_train_plus[col].isnull()\n",
    "    X_val_plus[col + '_was_missing'] = X_val_plus[col].isnull()\n",
    "\n",
    "# Imputation\n",
    "my_imputer = SimpleImputer()\n",
    "imputed_X_train_plus = pd.DataFrame(my_imputer.fit_transform(X_train_plus))\n",
    "imputed_X_val_plus = pd.DataFrame(my_imputer.transform(X_val_plus))\n",
    "\n",
    "# Imputation removed column names; put them back\n",
    "imputed_X_train_plus.columns = X_train_plus.columns\n",
    "imputed_X_val_plus.columns = X_val_plus.columns\n",
    "\n",
    "print(f'MAE from approach 3 (Imputation + Extension): {score_dataset(imputed_X_train_plus, imputed_X_val_plus, y_train, y_val)}')\n"
   ]
  },
  {
   "cell_type": "markdown",
   "id": "f1c7b3d9",
   "metadata": {},
   "source": [
    "One of the reasons dropping the columns is not a good strategy especially the larger the data set is the sheer number of data points that is lost:"
   ]
  },
  {
   "cell_type": "code",
   "execution_count": 32,
   "id": "2aa90897",
   "metadata": {},
   "outputs": [
    {
     "name": "stdout",
     "output_type": "stream",
     "text": [
      "(10864, 12)\n",
      "Car               49\n",
      "BuildingArea    5156\n",
      "YearBuilt       4307\n",
      "dtype: int64\n"
     ]
    }
   ],
   "source": [
    "# Shape of training data (num_rows, num_columns)\n",
    "print(X_train.shape)\n",
    "\n",
    "# Number of missing values in each column of training data\n",
    "missing_val_count_by_column = (X_train.isnull().sum())\n",
    "print(missing_val_count_by_column[missing_val_count_by_column > 0])"
   ]
  }
 ],
 "metadata": {
  "kernelspec": {
   "display_name": "Python 3",
   "language": "python",
   "name": "python3"
  },
  "language_info": {
   "codemirror_mode": {
    "name": "ipython",
    "version": 3
   },
   "file_extension": ".py",
   "mimetype": "text/x-python",
   "name": "python",
   "nbconvert_exporter": "python",
   "pygments_lexer": "ipython3",
   "version": "3.13.1"
  }
 },
 "nbformat": 4,
 "nbformat_minor": 5
}
